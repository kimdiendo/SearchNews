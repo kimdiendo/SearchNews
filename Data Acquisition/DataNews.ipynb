{
 "cells": [
  {
   "cell_type": "code",
   "execution_count": null,
   "metadata": {},
   "outputs": [],
   "source": [
    "from newsdataapi import NewsDataApiClient\n",
    "import csv\n",
    "import os"
   ]
  },
  {
   "attachments": {},
   "cell_type": "markdown",
   "metadata": {},
   "source": [
    "# Định nghĩa lớp NewsAPI"
   ]
  },
  {
   "cell_type": "code",
   "execution_count": null,
   "metadata": {},
   "outputs": [],
   "source": [
    "class  NewsApiClient:\n",
    "       def __init__(self):\n",
    "           self.api = NewsDataApiClient(apikey='pub_19636e9e4488149d9bee3c8c740a8c89eeb4b')\n",
    "       def extract_information_from_api(self , country, category):\n",
    "            page=None\n",
    "            self.results = []\n",
    "            while True:\n",
    "                response = self.api.news_api(country , category , page = page)\n",
    "                self.results += response['results']\n",
    "                page = response.get('nextPage',None)\n",
    "                if not page:\n",
    "                    break\n",
    "            return self.results"
   ]
  },
  {
   "cell_type": "code",
   "execution_count": null,
   "metadata": {},
   "outputs": [],
   "source": [
    "newsgetter = NewsApiClient()"
   ]
  },
  {
   "attachments": {},
   "cell_type": "markdown",
   "metadata": {},
   "source": [
    "# Cào dữ liệu từ API "
   ]
  },
  {
   "cell_type": "code",
   "execution_count": null,
   "metadata": {},
   "outputs": [],
   "source": [
    "result_sport  = newsgetter.extract_information_from_api('vi', 'sports') #thể thao"
   ]
  },
  {
   "cell_type": "code",
   "execution_count": null,
   "metadata": {},
   "outputs": [],
   "source": [
    "result_technology = newsgetter.extract_information_from_api('vi', 'technology') #công nghệ"
   ]
  },
  {
   "cell_type": "code",
   "execution_count": null,
   "metadata": {},
   "outputs": [],
   "source": [
    "result_bussiness = newsgetter.extract_information_from_api('vi' , 'business') #kinh doanh"
   ]
  },
  {
   "cell_type": "code",
   "execution_count": null,
   "metadata": {},
   "outputs": [],
   "source": [
    "result_science = newsgetter.extract_information_from_api('vi' , 'science') #khoa học"
   ]
  },
  {
   "cell_type": "code",
   "execution_count": null,
   "metadata": {},
   "outputs": [],
   "source": [
    "result_entertainment = newsgetter.extract_information_from_api('vi' , 'entertainment') #giải trí"
   ]
  },
  {
   "cell_type": "code",
   "execution_count": null,
   "metadata": {},
   "outputs": [],
   "source": [
    "result_health = newsgetter.extract_information_from_api('vi', 'health') #sức khoẻ"
   ]
  },
  {
   "cell_type": "code",
   "execution_count": null,
   "metadata": {},
   "outputs": [],
   "source": [
    "result_world = newsgetter.extract_information_from_api('vi', 'world') #thế giới"
   ]
  },
  {
   "cell_type": "code",
   "execution_count": null,
   "metadata": {},
   "outputs": [],
   "source": [
    "result_environment = newsgetter.extract_information_from_api('vi' , 'environment') #môi trường"
   ]
  },
  {
   "cell_type": "code",
   "execution_count": null,
   "metadata": {},
   "outputs": [],
   "source": [
    "result_top = newsgetter.extract_information_from_api('vi' , 'top') #Top bài báo"
   ]
  },
  {
   "attachments": {},
   "cell_type": "markdown",
   "metadata": {},
   "source": [
    "# Tinh chỉnh và lưu trữ dữ liệu"
   ]
  },
  {
   "cell_type": "code",
   "execution_count": null,
   "metadata": {},
   "outputs": [],
   "source": [
    "#tổ chức cột dữ liệu: idx , title , description , link , source, category , country , language , publishdate\n",
    "field_names= ['id' , 'title' , 'link' ,'description','pubDate',  'source_id', 'category' , 'country' , 'language']\n",
    "list_keys_remove = ['creator','image_url', 'content', 'video_url', 'keywords']"
   ]
  },
  {
   "cell_type": "code",
   "execution_count": null,
   "metadata": {},
   "outputs": [],
   "source": [
    "def process_1(news):\n",
    "    for i in range(len(news)):\n",
    "        for key in list_keys_remove:\n",
    "            news[i].pop(key)\n",
    "    return news\n",
    "def process_2(news):    \n",
    "    news_updated = []\n",
    "    for i in range(len(news)):\n",
    "        temp ={}\n",
    "        for feature in field_names:\n",
    "            if feature == 'id':\n",
    "                 temp[feature] = i + 1\n",
    "            elif feature == 'category' or feature =='country':\n",
    "                 temp[feature] = news[i][feature][0]\n",
    "            else:\n",
    "                 temp[feature] = news[i][feature]\n",
    "        news_updated.append(temp)\n",
    "    return news_updated\n",
    "def process_3(news , length = 0):\n",
    "    news_updated = []\n",
    "    for i in range(len(news)):\n",
    "        temp ={}\n",
    "        for feature in field_names:\n",
    "            if feature == 'id':\n",
    "                 temp[feature] = i + 1 + length\n",
    "            elif feature == 'category' or feature =='country':\n",
    "                 temp[feature] = news[i][feature][0]\n",
    "            else:\n",
    "                 temp[feature] = news[i][feature]\n",
    "        news_updated.append(temp)\n",
    "    return news_updated\n",
    "    "
   ]
  },
  {
   "cell_type": "code",
   "execution_count": null,
   "metadata": {},
   "outputs": [],
   "source": [
    "news = result_sport + result_bussiness + result_entertainment + result_environment + result_science + result_technology + result_top + result_world  + result_health"
   ]
  },
  {
   "cell_type": "code",
   "execution_count": null,
   "metadata": {},
   "outputs": [],
   "source": [
    "import pandas as pd\n",
    "if os.path.exists('NewsVN.csv'):\n",
    "    newsVN_csv = pd.read_csv('NewsVN.csv')\n",
    "    length = newsVN_csv.shape[0]\n",
    "    news_updated = process_3(process_1(news) , length)\n",
    "else:\n",
    "    news_updated = process_2(process_1(news))"
   ]
  },
  {
   "cell_type": "code",
   "execution_count": null,
   "metadata": {},
   "outputs": [],
   "source": [
    "\n",
    "if os.path.exists('NewsVN.csv'):\n",
    "    new_path = open(\"NewsVN.csv\", \"a\" , encoding = \"UTF-8\")\n",
    "    z = csv.writer(new_path)\n",
    "    for d in news_updated:\n",
    "        z.writerow(d.values())\n",
    "    new_path.close()\n",
    "else:\n",
    "    with open('NewsVN.csv', 'w', encoding='utf-8') as csvfile:\n",
    "        writer = csv.DictWriter(csvfile , field_names = field_names)\n",
    "        writer.writeheader()\n",
    "        writer.writerows(news_updated)"
   ]
  },
  {
   "attachments": {},
   "cell_type": "markdown",
   "metadata": {},
   "source": [
    "# Cập nhật dữ liệu"
   ]
  },
  {
   "cell_type": "code",
   "execution_count": null,
   "metadata": {},
   "outputs": [],
   "source": [
    "import pandas as pd\n",
    "raw_data = pd.read_csv('NewsVN.csv')\n",
    "raw_data"
   ]
  },
  {
   "cell_type": "code",
   "execution_count": null,
   "metadata": {},
   "outputs": [],
   "source": [
    "#xử lý đường dẫn giống nhau\n",
    "unique_url_data = raw_data['link'].unique()\n",
    "url_data = raw_data['link']\n",
    "dict_id_url = {}\n",
    "for url in unique_url_data:\n",
    "    temp = []\n",
    "    for i in range(len(url_data)):\n",
    "        if url == url_data[i]:\n",
    "            temp.append(i+1)\n",
    "    dict_id_url[url] = temp\n",
    "           "
   ]
  },
  {
   "cell_type": "code",
   "execution_count": null,
   "metadata": {},
   "outputs": [],
   "source": [
    "list_unique_id = [sample[len(sample)-1] for sample in list(dict_id_url.values())]"
   ]
  },
  {
   "cell_type": "code",
   "execution_count": null,
   "metadata": {},
   "outputs": [],
   "source": [
    "list_unique_id.sort(reverse=False)"
   ]
  },
  {
   "cell_type": "code",
   "execution_count": null,
   "metadata": {},
   "outputs": [],
   "source": [
    "new_data = pd.DataFrame(data= list_unique_id, columns=['id'])"
   ]
  },
  {
   "cell_type": "code",
   "execution_count": null,
   "metadata": {},
   "outputs": [],
   "source": [
    "processed_data = new_data.merge(raw_data)"
   ]
  },
  {
   "cell_type": "code",
   "execution_count": null,
   "metadata": {},
   "outputs": [],
   "source": [
    "processed_data"
   ]
  },
  {
   "cell_type": "code",
   "execution_count": null,
   "metadata": {},
   "outputs": [],
   "source": [
    "for i in range(0 , processed_data.shape[0]):\n",
    "     processed_data.at[i, 'id'] = i+1"
   ]
  },
  {
   "cell_type": "code",
   "execution_count": null,
   "metadata": {},
   "outputs": [],
   "source": [
    "processed_data"
   ]
  },
  {
   "cell_type": "code",
   "execution_count": null,
   "metadata": {},
   "outputs": [],
   "source": [
    "processed_data.to_csv('NewsVN.csv' ,sep=',', columns=['id' , 'title','link', 'description','pubDate','source_id','category','country','language'] , index=None)"
   ]
  }
 ],
 "metadata": {
  "kernelspec": {
   "display_name": "Python 3",
   "language": "python",
   "name": "python3"
  },
  "language_info": {
   "codemirror_mode": {
    "name": "ipython",
    "version": 3
   },
   "file_extension": ".py",
   "mimetype": "text/x-python",
   "name": "python",
   "nbconvert_exporter": "python",
   "pygments_lexer": "ipython3",
   "version": "3.9.13"
  },
  "orig_nbformat": 4,
  "vscode": {
   "interpreter": {
    "hash": "5addf786bcd861d1ce5006f23111f8cbb206731e5b61b0a5632ba9e0252558a8"
   }
  }
 },
 "nbformat": 4,
 "nbformat_minor": 2
}
