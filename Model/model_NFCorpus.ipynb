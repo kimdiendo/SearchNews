{
 "cells": [
  {
   "cell_type": "markdown",
   "metadata": {},
   "source": [
    "# File chứa 2 mô hình dùng cho việc chạy thực nghiệm trên tập NF corpus"
   ]
  },
  {
   "attachments": {},
   "cell_type": "markdown",
   "metadata": {},
   "source": [
    "# Load library"
   ]
  },
  {
   "cell_type": "code",
   "execution_count": null,
   "metadata": {},
   "outputs": [],
   "source": [
    "import nltk\n",
    "nltk.download(['punkt' , 'stopwords', 'wordnet'])"
   ]
  },
  {
   "cell_type": "code",
   "execution_count": null,
   "metadata": {},
   "outputs": [],
   "source": [
    "from nltk.tokenize import word_tokenize , sent_tokenize\n",
    "from nltk.sentiment import SentimentAnalyzer\n",
    "import pandas as pd\n",
    "import math\n",
    "import numpy as np\n",
    "import os\n",
    "from wordcloud import WordCloud, STOPWORDS\n",
    "from string import punctuation\n",
    "import re\n",
    "from nltk.corpus import stopwords\n",
    "from nltk.stem.snowball import EnglishStemmer\n",
    "from nltk.stem import PorterStemmer\n",
    "from nltk.stem import LancasterStemmer\n",
    "from nltk.stem import WordNetLemmatizer , SnowballStemmer\n",
    "from scipy.linalg import svd\n",
    "from tqdm import tqdm\n",
    "from operator import itemgetter"
   ]
  },
  {
   "attachments": {},
   "cell_type": "markdown",
   "metadata": {},
   "source": [
    "# Tải dữ liệu\n"
   ]
  },
  {
   "cell_type": "code",
   "execution_count": null,
   "metadata": {},
   "outputs": [],
   "source": [
    "nf_path = os.path.join(\"D:/Python project/SearchNews\", \"nfcorpus\") \n",
    "names=[\"dev.docs\",\"test.docs\",\"train.docs\"]\n",
    "data_nf = []\n",
    "with open(os.path.join(nf_path , names[1]), 'r') as file:\n",
    "    for line in file:\n",
    "            data_nf.append(line.rstrip())"
   ]
  },
  {
   "cell_type": "code",
   "execution_count": null,
   "metadata": {},
   "outputs": [],
   "source": [
    "data_nf"
   ]
  },
  {
   "cell_type": "code",
   "execution_count": null,
   "metadata": {},
   "outputs": [],
   "source": [
    "iddoc=[]\n",
    "for i in data_nf:\n",
    "    iddoc.append(i.split()[0])"
   ]
  },
  {
   "cell_type": "code",
   "execution_count": null,
   "metadata": {},
   "outputs": [],
   "source": [
    "data_train_nf = data_nf"
   ]
  },
  {
   "attachments": {},
   "cell_type": "markdown",
   "metadata": {},
   "source": [
    "## Tiền xử lý dữ liệu NF Corpus\n",
    "1.   Lọc và chỉ lấy các từ \n",
    "2.   Tách từ trong câu\n",
    "3.   Loại bỏ stopwords \n",
    "4.   Sử dụng phương pháp stemma để đưa từ hiện tại về từ gốc của nó"
   ]
  },
  {
   "cell_type": "code",
   "execution_count": null,
   "metadata": {},
   "outputs": [],
   "source": [
    "#1 lọc và chỉ lấy các từ\n",
    "data_nf_train_word = []\n",
    "for sample in data_train_nf:\n",
    "    temp = []\n",
    "    for character in sample.split():\n",
    "        if character.isalpha():\n",
    "           temp.append(character)\n",
    "    data_nf_train_word.append(' '.join(temp))"
   ]
  },
  {
   "cell_type": "code",
   "execution_count": null,
   "metadata": {},
   "outputs": [],
   "source": [
    "#2 tách từ trong câu\n",
    "data_nf_train_token = [word_tokenize(sample) for sample in data_nf_train_word]"
   ]
  },
  {
   "cell_type": "code",
   "execution_count": null,
   "metadata": {},
   "outputs": [],
   "source": [
    "data_nf_train_token[0]"
   ]
  },
  {
   "cell_type": "code",
   "execution_count": null,
   "metadata": {},
   "outputs": [],
   "source": [
    "#lọc stopwords\n",
    "list_english_stopwords = stopwords.words('english')\n",
    "data_nf_train_stopwords_token = []\n",
    "for sample in data_nf_train_token:\n",
    "    temp  = []\n",
    "    for word in sample:\n",
    "        if word not in list_english_stopwords:\n",
    "           temp.append(word) \n",
    "    data_nf_train_stopwords_token.append(temp)    "
   ]
  },
  {
   "cell_type": "code",
   "execution_count": null,
   "metadata": {},
   "outputs": [],
   "source": [
    "# stemmer = EnglishStemmer()\n",
    "# stemmer = PorterStemmer()\n",
    "stemmer =LancasterStemmer()\n",
    "# stemmer = WordNetLemmatizer()\n",
    "processed_data_nf_train_token =[]\n",
    "for sample in data_nf_train_stopwords_token:\n",
    "    temp = []\n",
    "    for word in sample:\n",
    "        temp.append(stemmer.stem(word))\n",
    "        # temp.append(stemmer.lemmatize(word))\n",
    "    processed_data_nf_train_token.append(temp)"
   ]
  },
  {
   "cell_type": "code",
   "execution_count": null,
   "metadata": {},
   "outputs": [],
   "source": [
    "preprocessed_data_token = processed_data_nf_train_token"
   ]
  },
  {
   "cell_type": "code",
   "execution_count": null,
   "metadata": {},
   "outputs": [],
   "source": [
    "preprocessed_data_token[0]"
   ]
  },
  {
   "cell_type": "code",
   "execution_count": null,
   "metadata": {},
   "outputs": [],
   "source": [
    "iddoc"
   ]
  },
  {
   "attachments": {},
   "cell_type": "markdown",
   "metadata": {},
   "source": [
    "# Train Vector Space Model\n"
   ]
  },
  {
   "cell_type": "code",
   "execution_count": null,
   "metadata": {},
   "outputs": [],
   "source": [
    "IId={} #từ điển lưu các id document của từng từ , dạng bảng băm\n",
    "for i in range(len(preprocessed_data_token)):\n",
    "  check = preprocessed_data_token[i]\n",
    "  for item in preprocessed_data_token[i]:\n",
    "    if item in check:\n",
    "      if item not in IId:\n",
    "          IId[item]=[]\n",
    "      if item in IId:\n",
    "          IId[item].append(iddoc[i])"
   ]
  },
  {
   "cell_type": "code",
   "execution_count": null,
   "metadata": {},
   "outputs": [],
   "source": [
    "IId"
   ]
  },
  {
   "attachments": {},
   "cell_type": "markdown",
   "metadata": {},
   "source": [
    "Tạo bảng từ vựng"
   ]
  },
  {
   "cell_type": "code",
   "execution_count": null,
   "metadata": {},
   "outputs": [],
   "source": [
    "vocab=pd.DataFrame(columns=['Key','Frequency']) #tạo bảng từ vựng sau khi tiền xử lý\n",
    "index=[] # lưu các từ vựng duy nhất\n",
    "doc_num=[] #tạo list chứa số lượng tài liệu mà k xuất hiện\n",
    "idf=[] # tạo list lưu idf của từng từ\n",
    "for item in IId:\n",
    "  index.append(item)\n",
    "for i in range(len(index)):\n",
    "  vocab.loc[i]=[index[i],len(IId[index[i]])] #tính frequency\n",
    "for i in range(len(IId)):\n",
    "  docNum=len(set(IId[index[i]]))\n",
    "  doc_num.append(docNum)\n",
    "  idf.append(math.log(len(preprocessed_data_token)/docNum))  \n",
    "vocab.insert(1,\"Doc Num\", doc_num,True)\n",
    "vocab.insert(3,\"IDF\",idf,True)\n",
    "vocab.set_index(\"Key\", inplace=True)"
   ]
  },
  {
   "cell_type": "code",
   "execution_count": null,
   "metadata": {},
   "outputs": [],
   "source": [
    "vocab"
   ]
  },
  {
   "attachments": {},
   "cell_type": "markdown",
   "metadata": {},
   "source": [
    "Posting List"
   ]
  },
  {
   "cell_type": "code",
   "execution_count": null,
   "metadata": {},
   "outputs": [],
   "source": [
    "PL={} #Khởi tạo Posting List\n",
    "count=1\n",
    "for i in range(len(IId)):\n",
    "  name=index[i]\n",
    "  PL[name] = []\n",
    "  PL[name].append([IId[name][0],1])\n",
    "  for j in range(1,len(IId[name])):\n",
    "    if IId[name][j]!=IId[name][j-1]:\n",
    "      PL[name].append([IId[name][j],1])\n",
    "    else:\n",
    "      count=PL[name][-1][-1]\n",
    "      PL[name][-1].append(count+1)\n",
    "      PL[name][-1].pop(-2)"
   ]
  },
  {
   "cell_type": "code",
   "execution_count": null,
   "metadata": {},
   "outputs": [],
   "source": [
    "PL"
   ]
  },
  {
   "attachments": {},
   "cell_type": "markdown",
   "metadata": {},
   "source": [
    "TF tính theo cách: tf_{ik} = In(tk_{ik}) + 1"
   ]
  },
  {
   "cell_type": "code",
   "execution_count": null,
   "metadata": {},
   "outputs": [],
   "source": [
    "for i in range(len(PL)):\n",
    "  for j in range(len(PL[index[i]])):\n",
    "    id=PL[index[i]][j][0]\n",
    "    term_num_in_doc=PL[index[i]][j][1]\n",
    "    total_term=len(preprocessed_data_token[iddoc.index(id)])\n",
    "    PL[index[i]][j].append(term_num_in_doc/total_term)"
   ]
  },
  {
   "attachments": {},
   "cell_type": "markdown",
   "metadata": {},
   "source": [
    "TFIDF tính theo: $ w_{ik}=tf_{ik}*idf_k$"
   ]
  },
  {
   "cell_type": "code",
   "execution_count": null,
   "metadata": {},
   "outputs": [],
   "source": [
    "w=[]\n",
    "for name in index:\n",
    "  for i in range(len(PL[name])):\n",
    "    w.append([PL[name][i][0],PL[name][i][2]*vocab.loc[name][\"IDF\"]]) #lấy cột IDF của danh sách vocab nhân với cột TF của posting list"
   ]
  },
  {
   "attachments": {},
   "cell_type": "markdown",
   "metadata": {},
   "source": [
    "Normalize bằng cách chia mỗi weight cho tổng toàn bộ weight trong tài liệu i"
   ]
  },
  {
   "attachments": {},
   "cell_type": "markdown",
   "metadata": {},
   "source": [
    "Trong Posting list, cột thứ 3 là TF, thứ 4 là weight đã normalized"
   ]
  },
  {
   "cell_type": "code",
   "execution_count": null,
   "metadata": {},
   "outputs": [],
   "source": [
    "import itertools\n",
    "new_list = [(a, list(b)) for a, b in itertools.groupby(sorted(w, key=lambda x:x[0]), key=lambda x:x[0])]#gom nhóm theo id của tài liệu\n",
    "final_data = [[a, math.sqrt(sum(math.pow(c[1],2) for c in d))] for a, d in new_list] #tính norm dựa trên chuẩn cosin (test: 0.38)\n",
    "# final_data = [[a, sum(c[1] for c in d)] for a, d in new_list]  # tính norm dựa trên chuẩn tổng (test:0.3648)\n",
    "# final_data = [[a, sum(math.pow(c[1],4) for c in d)] for a, d in new_list] #tính norm dựa trên chuẩn bậc 4  (test: 0.1416)"
   ]
  },
  {
   "cell_type": "code",
   "execution_count": null,
   "metadata": {},
   "outputs": [],
   "source": [
    "new_final_data = {}\n",
    "for item in final_data:\n",
    "    new_final_data[item[0]] = item[1]"
   ]
  },
  {
   "cell_type": "code",
   "execution_count": null,
   "metadata": {},
   "outputs": [],
   "source": [
    "for i in w:\n",
    "    i[1] = i[1] /new_final_data[i[0]]"
   ]
  },
  {
   "cell_type": "code",
   "execution_count": null,
   "metadata": {},
   "outputs": [],
   "source": [
    "index_of_w=0\n",
    "for i in range(len(PL)):\n",
    "  for j in range(len(PL[index[i]])):\n",
    "    PL[index[i]][j].append(w[index_of_w][1])  # bổ sung cột trọng số của từng term vào danh sách posting list.\n",
    "    index_of_w = index_of_w + 1"
   ]
  },
  {
   "cell_type": "code",
   "execution_count": null,
   "metadata": {},
   "outputs": [],
   "source": [
    "PL"
   ]
  },
  {
   "attachments": {},
   "cell_type": "markdown",
   "metadata": {},
   "source": [
    "## Query"
   ]
  },
  {
   "cell_type": "code",
   "execution_count": null,
   "metadata": {},
   "outputs": [],
   "source": [
    "def unique(list1):\n",
    "    # insert the list to the set\n",
    "    list_set = set(list1)\n",
    "    # convert the set to the list\n",
    "    unique_list = (list(list_set))\n",
    "    return unique_list"
   ]
  },
  {
   "cell_type": "code",
   "execution_count": null,
   "metadata": {},
   "outputs": [],
   "source": [
    "def query_to_terms(query):#hàm query_to_terms có nhiệm vụ tiền xử lý các câu truy vấn trước khi đưa vào mô hình vector cho việc tìm kiếm\n",
    "  a = []\n",
    "  #lọc và chỉ lấy các phần tử là từ\n",
    "  for sample in query:\n",
    "      temp = []\n",
    "      for character in sample.split():\n",
    "          if character.isalpha():#kiểm tra phần tử có phải là từ hay không ?\n",
    "            temp.append(character)\n",
    "      a.append(temp)\n",
    "  b=[]\n",
    "  #kiểm tra từ có thuộc stopwords hay không, nếu không phải stopwords thì sử dụng stemmer để đưa từ đó về từ gốc\n",
    "  for sample in a:\n",
    "    temp  = []\n",
    "    for word in sample:\n",
    "        if word not in list_english_stopwords: #kiểm tra từ đó stopwords hay không ?\n",
    "          temp.append(stemmer.lemmatize(word)) #sử dụng stemmer để đưa từ về từ gốc\n",
    "          # temp.append(stemmer.lemmatize(word))\n",
    "    b.append(temp)\n",
    "  return b"
   ]
  },
  {
   "attachments": {},
   "cell_type": "markdown",
   "metadata": {},
   "source": [
    "## Xử lý câu query từ file truy vấn"
   ]
  },
  {
   "cell_type": "code",
   "execution_count": null,
   "metadata": {},
   "outputs": [],
   "source": [
    "nf_path = os.path.join(\"D:/Python project/SearchNews\", \"nfcorpus\") \n",
    "query = []\n",
    "names=[\"dev.all.queries\",\"test.all.queries\" ,\"train.all.queries\"]\n",
    "with open(os.path.join(nf_path , names[2]), 'r',encoding=\"utf8\") as file:\n",
    "    for line in file:\n",
    "        query.append(line.rstrip())"
   ]
  },
  {
   "cell_type": "code",
   "execution_count": null,
   "metadata": {},
   "outputs": [],
   "source": [
    "len(query)"
   ]
  },
  {
   "attachments": {},
   "cell_type": "markdown",
   "metadata": {},
   "source": [
    "## Query Processing"
   ]
  },
  {
   "cell_type": "code",
   "execution_count": null,
   "metadata": {},
   "outputs": [],
   "source": [
    "index"
   ]
  },
  {
   "cell_type": "code",
   "execution_count": null,
   "metadata": {},
   "outputs": [],
   "source": [
    "queries=query_to_terms(query) #xử lý các từ trong mỗi câu truy vấn bằng hàm query_to_terms"
   ]
  },
  {
   "cell_type": "code",
   "execution_count": null,
   "metadata": {},
   "outputs": [],
   "source": [
    "\n",
    "for i in range(len(queries)):\n",
    " check = queries[i]\n",
    " queries[i]=unique(queries[i]) #sử dụng hàm unique để lọc ra term duy nhất trong mỗi truy vấn, từ đó ta có queries mới \n",
    " for j in range(len(queries[i])):#duyệt qua từng queries\n",
    "    if(queries[i][j] in index):\n",
    "            term=queries[i][j] #xác định term\n",
    "            queries[i][j]=[term] #cập nhật lại 1 mảng lưu term và trọng số của nó Ví dụ: ['smile', 0.746478564]\n",
    "            queries[i][j].append((check.count(term)/len(check))*(vocab.loc[term][\"IDF\"]))\n",
    "    else:\n",
    "            term=queries[i][j] #xác định term\n",
    "            queries[i][j]=[term] \n",
    "            queries[i][j].append(\"NaN\") \n",
    "          "
   ]
  },
  {
   "cell_type": "code",
   "execution_count": null,
   "metadata": {},
   "outputs": [],
   "source": [
    "queries"
   ]
  },
  {
   "attachments": {},
   "cell_type": "markdown",
   "metadata": {},
   "source": [
    "Normalizing Weights of Term in Query List"
   ]
  },
  {
   "cell_type": "code",
   "execution_count": null,
   "metadata": {},
   "outputs": [],
   "source": [
    "while True:\n",
    "    for q in queries:\n",
    "        for term in q:\n",
    "            if term[1] == 'NaN':\n",
    "               q.remove(term)\n",
    "    count_NaN = 0\n",
    "    for q in queries:\n",
    "        for term in q:\n",
    "            if term[1] == 'NaN':\n",
    "                 count_NaN +=1\n",
    "    if count_NaN == 0:\n",
    "           break"
   ]
  },
  {
   "cell_type": "code",
   "execution_count": null,
   "metadata": {},
   "outputs": [],
   "source": [
    "queries"
   ]
  },
  {
   "cell_type": "code",
   "execution_count": null,
   "metadata": {},
   "outputs": [],
   "source": [
    "\"\"\"\n",
    "Chuẩn hoá các trọng số của từng term trong mỗi truy vấn sử dụng công thức w_new = w /(w1 + w2 +...+wn) với n là số lượng term của câu truy vấn tương ứng.\n",
    "\"\"\"\n",
    "for q in queries:\n",
    "  sum_w=0\n",
    "  for term in q:\n",
    "    sum_w += math.pow(term[1] , 2)\n",
    "  sum_w = math.sqrt(sum_w)\n",
    "  for term in q:\n",
    "    term[1]=term[1]/sum_w"
   ]
  },
  {
   "cell_type": "code",
   "execution_count": null,
   "metadata": {},
   "outputs": [],
   "source": [
    "query_id=[]\n",
    "for q in query:\n",
    "    query_id.append(q.split()[0])"
   ]
  },
  {
   "cell_type": "code",
   "execution_count": null,
   "metadata": {},
   "outputs": [],
   "source": [
    "query_id"
   ]
  },
  {
   "cell_type": "markdown",
   "metadata": {},
   "source": [
    "# Train Latent Semantic Index Model"
   ]
  },
  {
   "cell_type": "code",
   "execution_count": null,
   "metadata": {},
   "outputs": [],
   "source": [
    "import gc\n",
    "gc.collect()\n",
    "gc.freeze()"
   ]
  },
  {
   "cell_type": "code",
   "execution_count": null,
   "metadata": {},
   "outputs": [],
   "source": [
    "senti = SentimentAnalyzer()"
   ]
  },
  {
   "cell_type": "code",
   "execution_count": null,
   "metadata": {},
   "outputs": [],
   "source": [
    "all_words_data = senti.all_words(preprocessed_data_token)"
   ]
  },
  {
   "cell_type": "code",
   "execution_count": null,
   "metadata": {},
   "outputs": [],
   "source": [
    "dict_word_frequency_all_docs = nltk.FreqDist(all_words_data)\n",
    "list_unique_words = list(dict_word_frequency_all_docs.keys())"
   ]
  },
  {
   "cell_type": "code",
   "execution_count": null,
   "metadata": {},
   "outputs": [],
   "source": [
    "array_freq_word = []\n",
    "for word in list_unique_words:\n",
    "    temp = []\n",
    "    for i in range(len(preprocessed_data_token)):\n",
    "        temp.append(preprocessed_data_token[i].count(word))\n",
    "    array_freq_word.append(temp)"
   ]
  },
  {
   "cell_type": "code",
   "execution_count": null,
   "metadata": {},
   "outputs": [],
   "source": [
    "array_freq_word = np.array(array_freq_word)"
   ]
  },
  {
   "cell_type": "markdown",
   "metadata": {},
   "source": [
    "## Tính term vector và document vector"
   ]
  },
  {
   "cell_type": "markdown",
   "metadata": {},
   "source": [
    "![image.png](data:image/png;base64,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)"
   ]
  },
  {
   "cell_type": "code",
   "execution_count": null,
   "metadata": {},
   "outputs": [],
   "source": [
    "def SVD_with_k_dimensional(U , Sigma  , VT , K):\n",
    "     new_Sigma = np.zeros((K , K))\n",
    "     new_Sigma[:K ,:K] = np.diag(Sigma[:K])\n",
    "     new_VT = VT[:K]\n",
    "     new_U = U[:,range(K)]\n",
    "     term_vector = np.dot(new_U , new_Sigma)\n",
    "     document_vector = np.dot(new_Sigma , new_VT)\n",
    "     return term_vector  , document_vector"
   ]
  },
  {
   "cell_type": "code",
   "execution_count": null,
   "metadata": {},
   "outputs": [],
   "source": [
    "U , Sigma , VT = svd(array_freq_word) # sử dụng SVD để tách ma trận doc-term"
   ]
  },
  {
   "cell_type": "markdown",
   "metadata": {},
   "source": [
    "## Tạo từ điển term_vector và document_term"
   ]
  },
  {
   "cell_type": "code",
   "execution_count": null,
   "metadata": {},
   "outputs": [],
   "source": [
    "def create_dict_term_and_document(term_vector , document_vector):\n",
    "    dict_term_vector = {}\n",
    "    for i in range(len(list_unique_words)):\n",
    "        dict_term_vector[list_unique_words[i]] = term_vector[i]\n",
    "    dict_document_vector ={}\n",
    "    for i in range(len(preprocessed_data_token)):\n",
    "        dict_document_vector[iddoc[i]] = document_vector[:,i]\n",
    "    return dict_term_vector , dict_document_vector"
   ]
  },
  {
   "cell_type": "markdown",
   "metadata": {},
   "source": [
    "## Query"
   ]
  },
  {
   "cell_type": "code",
   "execution_count": null,
   "metadata": {},
   "outputs": [],
   "source": [
    "nf_path = os.path.join(\"D:/Python project/SearchNews\", \"nfcorpus\")\n",
    "query = []\n",
    "names=[\"test.all.queries\"]\n",
    "for name in names:\n",
    "    with open(os.path.join(nf_path , name), 'r',encoding=\"utf8\") as file:\n",
    "        for line in file:\n",
    "             query.append(line.rstrip())"
   ]
  },
  {
   "cell_type": "code",
   "execution_count": null,
   "metadata": {},
   "outputs": [],
   "source": [
    "len(query)"
   ]
  },
  {
   "cell_type": "code",
   "execution_count": null,
   "metadata": {},
   "outputs": [],
   "source": [
    "query_id=[]\n",
    "for q in query:\n",
    "    query_id.append(q.split()[0])"
   ]
  },
  {
   "cell_type": "markdown",
   "metadata": {},
   "source": [
    "## Tiền xử lý câu truy vấn"
   ]
  },
  {
   "cell_type": "code",
   "execution_count": null,
   "metadata": {},
   "outputs": [],
   "source": [
    "def preprocess_text(sent):\n",
    "    temp_sent = []\n",
    "    for word in sent.split(): #lọc và chỉ lấy từ\n",
    "        if word.isalpha():\n",
    "            temp_sent.append(word)\n",
    "    temp_sent = \" \".join(temp_sent)\n",
    "    #tokenize\n",
    "    temp_sent = word_tokenize(temp_sent)\n",
    "    #stopwords\n",
    "    new_temp_sent  = []\n",
    "    for i in range(len(temp_sent)):\n",
    "        if temp_sent[i] not in list_english_stopwords:\n",
    "               new_temp_sent.append(temp_sent[i])\n",
    "    #stemmer\n",
    "    for i in range(len(new_temp_sent)):\n",
    "        new_temp_sent[i] = stemmer.stem(new_temp_sent[i])\n",
    "    return \" \".join(new_temp_sent)  "
   ]
  },
  {
   "cell_type": "code",
   "execution_count": null,
   "metadata": {},
   "outputs": [],
   "source": [
    "for i in range(len(query)):\n",
    "    query[i] =  preprocess_text(query[i])"
   ]
  },
  {
   "cell_type": "code",
   "execution_count": null,
   "metadata": {},
   "outputs": [],
   "source": [
    "query[0]"
   ]
  },
  {
   "cell_type": "markdown",
   "metadata": {},
   "source": [
    "## Query Processing"
   ]
  },
  {
   "cell_type": "code",
   "execution_count": null,
   "metadata": {},
   "outputs": [],
   "source": [
    "def query_processing(dict_term_vector , i):\n",
    "    sum_vector_query =[]\n",
    "    for sent in query:\n",
    "        temp = []\n",
    "        for word in sent.split():\n",
    "            try:\n",
    "                temp.append(dict_term_vector[word])\n",
    "            except:\n",
    "                pass\n",
    "        sum_vector_query.append(np.sum(temp , axis=0, dtype=float)/len(temp))\n",
    "    return sum_vector_query  "
   ]
  },
  {
   "attachments": {},
   "cell_type": "markdown",
   "metadata": {},
   "source": [
    "# Đánh giá 2 mô hình với NF Corpus"
   ]
  },
  {
   "attachments": {},
   "cell_type": "markdown",
   "metadata": {},
   "source": [
    "![image.png](data:image/png;base64,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)"
   ]
  },
  {
   "cell_type": "markdown",
   "metadata": {},
   "source": [
    "## Tải bộ kết quả tài liệu liên quan thực tế"
   ]
  },
  {
   "cell_type": "code",
   "execution_count": null,
   "metadata": {},
   "outputs": [],
   "source": [
    "\n",
    "from scipy.spatial.distance import cosine , euclidean"
   ]
  },
  {
   "cell_type": "code",
   "execution_count": null,
   "metadata": {},
   "outputs": [],
   "source": [
    "nf_path = os.path.join(\"D:/Python project/SearchNews\", \"nfcorpus\") \n",
    "res = []\n",
    "names=[\"dev.3-2-1.qrel\", \"test.3-2-1.qrel\", \"train.3-2-1.qrel\"]\n",
    "with open(os.path.join(nf_path , names[1]), 'r',encoding=\"utf8\") as file:\n",
    "    for line in file:\n",
    "        res.append(line.rstrip())"
   ]
  },
  {
   "cell_type": "code",
   "execution_count": null,
   "metadata": {},
   "outputs": [],
   "source": [
    "response={}\n",
    "for i in res:\n",
    "    a =i.split()[0]\n",
    "    if a not in response:\n",
    "        response[a]=[]\n",
    "    if a in response:\n",
    "        response[a].append(i.split()[2])\n"
   ]
  },
  {
   "cell_type": "code",
   "execution_count": null,
   "metadata": {},
   "outputs": [],
   "source": [
    "response"
   ]
  },
  {
   "attachments": {},
   "cell_type": "markdown",
   "metadata": {},
   "source": [
    "## Vector Space Model - dự đoán tài liệu liên quan"
   ]
  },
  {
   "cell_type": "code",
   "execution_count": null,
   "metadata": {},
   "outputs": [],
   "source": [
    "def find_and_add(arr,doc_id,value):\n",
    "  for i in range(len(arr)):\n",
    "    if arr[i][0]== doc_id:\n",
    "         arr[i][1]+=value\n",
    "  return arr"
   ]
  },
  {
   "cell_type": "code",
   "execution_count": null,
   "metadata": {},
   "outputs": [],
   "source": [
    "#tạo danh sách (id_docs ,weight) cho từng truy vấn\n",
    "from operator import itemgetter\n",
    "predict_result = [] #danh sách lưu kết quả dự đoán tài liệu liên quan của từng truy vấn\n",
    "for i in tqdm(range(len(queries))):\n",
    "  q=queries[i]\n",
    "  results=[]\n",
    "  for key in q:\n",
    "    for j in PL[key[0]]:\n",
    "      results.append([j[0],j[3]*key[1]])\n",
    "  doc_rank=[]#lưu trữ (id duy nhất , weight) của từng truy vấn\n",
    "  check=[]\n",
    "  for result in results:\n",
    "    doc_id = result[0]\n",
    "    if doc_id not in check:\n",
    "      check.append(doc_id)\n",
    "      doc_rank.append(result)\n",
    "    else:\n",
    "      doc_rank=find_and_add(doc_rank,doc_id,result[1])\n",
    "  arr=sorted(doc_rank, key=itemgetter(1))#sắp xếp doc_rank theo thứ tự từ bé đến lớn\n",
    "  predict_result.append(arr[-(len(response[query_id[i]])):])#lấy số phần tử có  w cao nhất với số lượng bằng với số tài liệu của mỗi truy vấn trong tập RES"
   ]
  },
  {
   "cell_type": "code",
   "execution_count": null,
   "metadata": {},
   "outputs": [],
   "source": [
    "#tạo danh sách kết quả mới chỉ lưu các id tài liệu của mỗi truy vấn\n",
    "new_predict_result_Vector_Space = []\n",
    "for sample in predict_result:\n",
    "    temp = []\n",
    "    for row in sample:\n",
    "        temp.append(row[0])\n",
    "    new_predict_result_Vector_Space.append(temp)"
   ]
  },
  {
   "cell_type": "markdown",
   "metadata": {},
   "source": [
    "## Latent Semantic Index model - dự đoán tài liệu liên quan"
   ]
  },
  {
   "cell_type": "code",
   "execution_count": null,
   "metadata": {},
   "outputs": [],
   "source": [
    "def predict_result(dict_document_vector , sum_vector_query):\n",
    "    predict_result = []\n",
    "    for i in range(len(sum_vector_query)):\n",
    "        temp = []\n",
    "        for id , item in dict_document_vector.items():\n",
    "            temp.append([id , math.dist(sum_vector_query[i] , item)])\n",
    "        temp.sort(reverse = False , key = itemgetter(1))\n",
    "        predict_result.append(temp[:len(response[query_id[i]])])\n",
    "    new_predict_result_LSI = []\n",
    "    for sample in predict_result:\n",
    "        temp = []\n",
    "        for row in sample:\n",
    "            temp.append(row[0])\n",
    "        new_predict_result_LSI.append(temp)\n",
    "    return new_predict_result_LSI"
   ]
  },
  {
   "attachments": {},
   "cell_type": "markdown",
   "metadata": {},
   "source": [
    "## Sử MAP nội suy cho đánh giá 2 model"
   ]
  },
  {
   "cell_type": "code",
   "execution_count": null,
   "metadata": {},
   "outputs": [],
   "source": [
    "def MAP_model(new_predict_result , real_result): #hàm tính MAP chung cho 2 mô hình\n",
    "    #tạo danh sách kết quả kiểm tra xem id tài liệu nào có xuất hiện trong tập dự đoán và tập thực tế\n",
    "    result = []\n",
    "    for i in range(len(new_predict_result)):\n",
    "        temp = {}\n",
    "        for id_docs in new_predict_result[i]:\n",
    "            if id_docs in response[query_id[i]]:\n",
    "                temp[id_docs]  = True\n",
    "            else:\n",
    "                temp[id_docs] = False\n",
    "        result.append(temp)\n",
    "    #tính precision và recall cho từng truy vấn\n",
    "    precision_recall_queries =[]\n",
    "    i = 0 \n",
    "    for sample in result:\n",
    "        if len(sample) == 0:\n",
    "            precision_recall_queries.append([])\n",
    "        else:\n",
    "            count_appear = 0\n",
    "            count = 0\n",
    "            temp = []\n",
    "            for id_docs , appear in sample.items():\n",
    "                if appear == False:\n",
    "                    count +=1\n",
    "                elif appear == True:\n",
    "                    count_appear +=1\n",
    "                    count +=1\n",
    "                    temp.append([count_appear/count, count_appear/len(response[query_id[i]])])\n",
    "            precision_recall_queries.append(temp)\n",
    "        i = i+1  \n",
    "    #tính AP nội suy cho từng truy vấn\n",
    "    result_AP_queries  = []\n",
    "    for sample in precision_recall_queries:\n",
    "        if len(sample) == 0:\n",
    "            result_AP_queries.append(0.0)\n",
    "        else:\n",
    "            AP = []\n",
    "            for i in range(len(sample)):\n",
    "                AP.append(sample[i][0])\n",
    "            result_AP_queries.append(sum(AP)/len(AP))\n",
    "    return np.mean(result_AP_queries)"
   ]
  },
  {
   "cell_type": "markdown",
   "metadata": {},
   "source": [
    "### Vector Space Model"
   ]
  },
  {
   "cell_type": "code",
   "execution_count": null,
   "metadata": {},
   "outputs": [],
   "source": [
    "MAP_model(new_predict_result_Vector_Space , response)   #vector space model"
   ]
  },
  {
   "cell_type": "markdown",
   "metadata": {},
   "source": [
    "### Latent Semantic Index"
   ]
  },
  {
   "cell_type": "code",
   "execution_count": null,
   "metadata": {},
   "outputs": [],
   "source": [
    "MAP_result = [] #LSI model\n",
    "for i in tqdm(range(1, 201, 2)):\n",
    "    term_vector , document_vector = SVD_with_k_dimensional(U , Sigma , VT , i)\n",
    "    dict_term_vector , dict_document_vector = create_dict_term_and_document(term_vector , document_vector)\n",
    "    sum_query_vector = query_processing(dict_term_vector , i)\n",
    "    new_predict_result_LSI = predict_result(dict_document_vector , sum_query_vector)\n",
    "    MAP_result.append(MAP_model(new_predict_result_LSI, response))"
   ]
  },
  {
   "cell_type": "code",
   "execution_count": null,
   "metadata": {},
   "outputs": [],
   "source": [
    "#Show dữ liệu\n",
    "import matplotlib.pyplot as plt\n",
    "plt.plot(range(1 , 201 , 2) , MAP_result)\n",
    "plt.show()"
   ]
  },
  {
   "cell_type": "code",
   "execution_count": null,
   "metadata": {},
   "outputs": [],
   "source": [
    "max(MAP_result) #tìm kết quả MAP lớn nhất"
   ]
  },
  {
   "cell_type": "code",
   "execution_count": null,
   "metadata": {},
   "outputs": [],
   "source": [
    "print(\"dim for SVD\" , MAP_result.index(max(MAP_result)))"
   ]
  }
 ],
 "metadata": {
  "kernelspec": {
   "display_name": "Python 3",
   "language": "python",
   "name": "python3"
  },
  "language_info": {
   "codemirror_mode": {
    "name": "ipython",
    "version": 3
   },
   "file_extension": ".py",
   "mimetype": "text/x-python",
   "name": "python",
   "nbconvert_exporter": "python",
   "pygments_lexer": "ipython3",
   "version": "3.9.13"
  },
  "orig_nbformat": 4
 },
 "nbformat": 4,
 "nbformat_minor": 2
}
