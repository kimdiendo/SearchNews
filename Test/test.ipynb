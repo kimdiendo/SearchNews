{
 "cells": [
  {
   "cell_type": "code",
   "execution_count": 31,
   "metadata": {},
   "outputs": [],
   "source": [
    "from newsdataapi import NewsDataApiClient\n",
    "import csv\n"
   ]
  },
  {
   "cell_type": "code",
   "execution_count": 32,
   "metadata": {},
   "outputs": [],
   "source": [
    "employee_info = ['emp_id', 'emp_name', 'skills']"
   ]
  },
  {
   "cell_type": "code",
   "execution_count": 33,
   "metadata": {},
   "outputs": [],
   "source": [
    "new_dict = [\n",
    "{'emp_id': 456, 'emp_name': 'George', 'skills': 'Python'},\n",
    "{'emp_id': 892, 'emp_name': 'Adam', 'skills': 'Java'},\n",
    "{'emp_id': 178, 'emp_name': 'Gilchrist', 'skills': 'Mongo db'},\n",
    "{'emp_id': 155, 'emp_name': 'Elon', 'skills': 'Sql'},\n",
    "{'emp_id': 299, 'emp_name': 'Mask', 'skills': 'Ruby'},\n",
    "]\n",
    "  \n",
    "with open('test4.csv', 'w') as csvfile:\n",
    "    writer = csv.DictWriter(csvfile, fieldnames = employee_info)\n",
    "    writer.writeheader()\n",
    "    writer.writerows(new_dict)"
   ]
  },
  {
   "cell_type": "code",
   "execution_count": 34,
   "metadata": {},
   "outputs": [],
   "source": [
    "dict = [\n",
    "{'emp_id': 23, 'emp_name': 'John', 'skills': 'Python'},\n",
    "{'emp_id': 56, 'emp_name': 'Eva', 'skills': 'Java'},\n",
    "]"
   ]
  },
  {
   "cell_type": "code",
   "execution_count": 36,
   "metadata": {},
   "outputs": [],
   "source": [
    "new_path = open(\"test4.csv\", \"a\")\n",
    "z = csv.writer(new_path)\n",
    "for d in dict:\n",
    "    z.writerow(d.values())\n",
    "\n",
    "new_path.close()"
   ]
  }
 ],
 "metadata": {
  "kernelspec": {
   "display_name": "Python 3",
   "language": "python",
   "name": "python3"
  },
  "language_info": {
   "codemirror_mode": {
    "name": "ipython",
    "version": 3
   },
   "file_extension": ".py",
   "mimetype": "text/x-python",
   "name": "python",
   "nbconvert_exporter": "python",
   "pygments_lexer": "ipython3",
   "version": "3.9.13"
  },
  "orig_nbformat": 4
 },
 "nbformat": 4,
 "nbformat_minor": 2
}
